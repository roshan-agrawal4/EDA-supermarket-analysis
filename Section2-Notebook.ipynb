{
 "cells": [
  {
   "cell_type": "markdown",
   "metadata": {},
   "source": [
    "# Section 2 - Coding\n",
    "\n",
    "In this section we will load and manipulate \"unconventional\" data files - for which you will be required to create a simple loading functionality and then be able to process and query a data file.\n",
    "\n",
    "There is a \"section2_data.txt\" file attached to this IPython notebook. The data file contains few rows from a computer vision dataset. Each row corresponds to a frame in a video and contains some metadata and annotations over it.\n",
    "\n",
    "The following notebook will pose some questions about reading and processing this data.\n",
    "\n",
    "Feel free to use any existing python library to answer the questions."
   ]
  },
  {
   "cell_type": "code",
   "execution_count": 19,
   "metadata": {},
   "outputs": [],
   "source": [
    "#more section2_data.txt"
   ]
  },
  {
   "cell_type": "markdown",
   "metadata": {},
   "source": [
    "## Section 1 - Design a data loader\n",
    "\n",
    "Design a data structure, that give a file path `\"section2_data.txt\"`, it will read and parse the contents of the file above.\n",
    "\n",
    "#### Q1 - Design the data structure with the following properties:\n",
    "- The data structure is either callable or indexable. It will accepts a single parameter, as integer, and return the parsed contents of the row corresponding to the given index.\n",
    "- The data structure needs to return the number of rows in the file (and in memory) when called with the python command `len(my_data_struct)`\n"
   ]
  },
  {
   "cell_type": "code",
   "execution_count": 20,
   "metadata": {
    "ExecuteTime": {
     "end_time": "2021-06-22T09:41:50.450031Z",
     "start_time": "2021-06-22T09:41:50.441896Z"
    }
   },
   "outputs": [
    {
     "name": "stdout",
     "output_type": "stream",
     "text": [
      "51\n"
     ]
    },
    {
     "data": {
      "text/plain": [
       "{'_i': 0,\n",
       " 'frame': 'frame_000.png',\n",
       " 'video': 'video000',\n",
       " 'value': 39,\n",
       " 'labels': ['bird']}"
      ]
     },
     "execution_count": 20,
     "metadata": {},
     "output_type": "execute_result"
    }
   ],
   "source": [
    "import json\n",
    "\n",
    "class MyDataStruct:\n",
    "    def __init__(self, filename):\n",
    "        self.data = []\n",
    "        with open(filename, 'r') as f:\n",
    "            for line in f:\n",
    "                row = json.loads(line)\n",
    "                self.data.append(row)\n",
    "                \n",
    "    def __getitem__(self, index):\n",
    "        return self.data[index]\n",
    "    \n",
    "    def __len__(self):\n",
    "        return len(self.data)\n",
    "\n",
    "\n",
    "my_data_struct = MyDataStruct('section2_data.txt')\n",
    "print(len(my_data_struct))\n",
    "my_data_struct[0]"
   ]
  },
  {
   "cell_type": "markdown",
   "metadata": {},
   "source": [
    "#### Q2 - Prove that you can initialize the reader and then calculate its length `len(reader)` and print the 26th and 43rd elements of the dataset."
   ]
  },
  {
   "cell_type": "code",
   "execution_count": 21,
   "metadata": {},
   "outputs": [
    {
     "name": "stdout",
     "output_type": "stream",
     "text": [
      "51\n",
      "{'_i': 25, 'frame': 'frame_003.png', 'video': 'video003', 'value': 24, 'labels': ['panda']}\n",
      "{'_i': 42, 'frame': 'frame_002.png', 'video': 'video004', 'value': 32, 'labels': ['panda', 'bird', 'cat']}\n"
     ]
    }
   ],
   "source": [
    "reader = MyDataStruct('section2_data.txt')\n",
    "print(len(reader))\n",
    "print(my_data_struct[25], end='\\n')\n",
    "print(my_data_struct[42])"
   ]
  },
  {
   "cell_type": "markdown",
   "metadata": {},
   "source": [
    "## Section 2 - Process the data\n",
    "\n",
    "#### Q1 - Write an algorithm that will generate a dictionary with key/value pairs, where the keys are the name of each unique video in the dataset and the value is the number of frames of that video."
   ]
  },
  {
   "cell_type": "code",
   "execution_count": 22,
   "metadata": {},
   "outputs": [
    {
     "data": {
      "text/plain": [
       "{'video000': 7, 'video001': 10, 'video002': 5, 'video003': 18, 'video004': 11}"
      ]
     },
     "execution_count": 22,
     "metadata": {},
     "output_type": "execute_result"
    }
   ],
   "source": [
    "#Previous code\n",
    "import json\n",
    "\n",
    "class MyDataStruct:\n",
    "    def __init__(self, filename):\n",
    "        self.data = []\n",
    "        with open(filename, 'r') as f:\n",
    "            for line in f:\n",
    "                row = json.loads(line)\n",
    "                self.data.append(row)\n",
    "                \n",
    "    def __getitem__(self, index):\n",
    "        return self.data[index]\n",
    "    \n",
    "    def __len__(self):\n",
    "        return len(self.data)\n",
    "\n",
    "\n",
    "my_data_struct = MyDataStruct('section2_data.txt')\n",
    "\n",
    "### YOUT SOLUTION\n",
    "def video_frame_count(my_data_struct):\n",
    "    dict = {}\n",
    "    for i in range(len(my_data_struct)):\n",
    "        video_name = my_data_struct[i]['video']\n",
    "        if video_name not in dict:\n",
    "            dict[video_name] = 1\n",
    "        else:\n",
    "            dict[video_name] += 1\n",
    "    return dict\n",
    "\n",
    "video_frame_count(my_data_struct)"
   ]
  },
  {
   "cell_type": "markdown",
   "metadata": {},
   "source": [
    "#### Q2 - Write an algorithm that will generate a dictionary with key/value pairs, where the keys are the name of each unique video in the dataset and the value is the sum of the `value` field of all the frames containing a `dog`."
   ]
  },
  {
   "cell_type": "code",
   "execution_count": 23,
   "metadata": {},
   "outputs": [
    {
     "data": {
      "text/plain": [
       "{'video000': 96,\n",
       " 'video001': 69,\n",
       " 'video002': 91,\n",
       " 'video003': 129,\n",
       " 'video004': 49}"
      ]
     },
     "execution_count": 23,
     "metadata": {},
     "output_type": "execute_result"
    }
   ],
   "source": [
    "#Previous code\n",
    "import json\n",
    "\n",
    "class MyDataStruct:\n",
    "    def __init__(self, filename):\n",
    "        self.data = []\n",
    "        with open(filename, 'r') as f:\n",
    "            for line in f:\n",
    "                row = json.loads(line)\n",
    "                self.data.append(row)\n",
    "                \n",
    "    def __getitem__(self, index):\n",
    "        return self.data[index]\n",
    "    \n",
    "    def __len__(self):\n",
    "        return len(self.data)\n",
    "\n",
    "\n",
    "my_data_struct = MyDataStruct('section2_data.txt')\n",
    "\n",
    "### YOUT SOLUTION\n",
    "def video_value_sum_with_dog(my_data_struct):\n",
    "    video_values = {}\n",
    "    for i in range(len(my_data_struct)):\n",
    "        video_name = my_data_struct[i]['video']\n",
    "        if 'dog' in my_data_struct[i]['labels']:\n",
    "            if video_name not in video_values:\n",
    "                video_values[video_name] = my_data_struct[i]['value']\n",
    "            else:\n",
    "                video_values[video_name] += my_data_struct[i]['value']\n",
    "    return video_values\n",
    "\n",
    "video_value_sum_with_dog(my_data_struct)\n",
    "            "
   ]
  },
  {
   "cell_type": "markdown",
   "metadata": {},
   "source": [
    "#### Q3 - Last, create an algorithm that returns a dictionary with the count of each of the animal types in the dataset, excluding occurrences in `video003` and rows where the `value` is odd."
   ]
  },
  {
   "cell_type": "code",
   "execution_count": 24,
   "metadata": {},
   "outputs": [
    {
     "data": {
      "text/plain": [
       "{'dog': 10, 'cat': 7, 'bird': 6, 'frog': 8, 'panda': 4}"
      ]
     },
     "execution_count": 24,
     "metadata": {},
     "output_type": "execute_result"
    }
   ],
   "source": [
    "#Previous code\n",
    "import json\n",
    "\n",
    "class MyDataStruct:\n",
    "    def __init__(self, filename):\n",
    "        self.data = []\n",
    "        with open(filename, 'r') as f:\n",
    "            for line in f:\n",
    "                row = json.loads(line)\n",
    "                self.data.append(row)\n",
    "                \n",
    "    def __getitem__(self, index):\n",
    "        return self.data[index]\n",
    "    \n",
    "    def __len__(self):\n",
    "        return len(self.data)\n",
    "\n",
    "\n",
    "my_data_struct = MyDataStruct('section2_data.txt')\n",
    "\n",
    "### YOUR SOLUTION\n",
    "def animal_count(my_data_struct):\n",
    "    count = {}\n",
    "    for i in range(len(my_data_struct)):\n",
    "        video_name = my_data_struct[i]['video']\n",
    "        val = my_data_struct[i]['value']\n",
    "        if video_name != \"video003\" and val % 2 == 0:\n",
    "            animals = my_data_struct[i]['labels']\n",
    "            for animal in animals:\n",
    "                if animal not in count:\n",
    "                    count[animal] = 1\n",
    "                else:\n",
    "                    count[animal] += 1\n",
    "    return count\n",
    "\n",
    "animal_count(my_data_struct)          \n",
    "        \n",
    "   "
   ]
  }
 ],
 "metadata": {
  "kernelspec": {
   "display_name": "Python 3.9.6 64-bit",
   "language": "python",
   "name": "python3"
  },
  "language_info": {
   "codemirror_mode": {
    "name": "ipython",
    "version": 3
   },
   "file_extension": ".py",
   "mimetype": "text/x-python",
   "name": "python",
   "nbconvert_exporter": "python",
   "pygments_lexer": "ipython3",
   "version": "3.9.6"
  },
  "toc": {
   "base_numbering": 1,
   "nav_menu": {},
   "number_sections": true,
   "sideBar": true,
   "skip_h1_title": false,
   "title_cell": "Table of Contents",
   "title_sidebar": "Contents",
   "toc_cell": false,
   "toc_position": {},
   "toc_section_display": true,
   "toc_window_display": false
  },
  "varInspector": {
   "cols": {
    "lenName": 16,
    "lenType": 16,
    "lenVar": 40
   },
   "kernels_config": {
    "python": {
     "delete_cmd_postfix": "",
     "delete_cmd_prefix": "del ",
     "library": "var_list.py",
     "varRefreshCmd": "print(var_dic_list())"
    },
    "r": {
     "delete_cmd_postfix": ") ",
     "delete_cmd_prefix": "rm(",
     "library": "var_list.r",
     "varRefreshCmd": "cat(var_dic_list()) "
    }
   },
   "types_to_exclude": [
    "module",
    "function",
    "builtin_function_or_method",
    "instance",
    "_Feature"
   ],
   "window_display": false
  },
  "vscode": {
   "interpreter": {
    "hash": "0d591c6e422414675974e227c13f5382000c440fedd3c5006ef2be5d887f0ba7"
   }
  }
 },
 "nbformat": 4,
 "nbformat_minor": 2
}
